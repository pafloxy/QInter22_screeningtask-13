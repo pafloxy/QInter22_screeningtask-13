{
 "cells": [
  {
   "cell_type": "markdown",
   "metadata": {},
   "source": [
    "[![CC BY-NC-SA 4.0][cc-by-nc-sa-shield]][cc-by-nc-sa]\n",
    "\n",
    "<!-- [![CC BY-NC-SA 4.0][cc-by-nc-sa-image]][cc-by-nc-sa] -->\n",
    "\n",
    "[cc-by-nc-sa]: http://creativecommons.org/licenses/by-nc-sa/4.0/\n",
    "[cc-by-nc-sa-image]: https://licensebuttons.net/l/by-nc-sa/4.0/88x31.png\n",
    "[cc-by-nc-sa-shield]: https://img.shields.io/badge/License-CC%20BY--NC--SA%204.0-lightgrey.svg\n"
   ]
  },
  {
   "cell_type": "code",
   "execution_count": 1,
   "metadata": {},
   "outputs": [],
   "source": [
    "from qiskit_utils import *"
   ]
  },
  {
   "cell_type": "markdown",
   "metadata": {},
   "source": [
    "## **Database Search Algorithm**"
   ]
  },
  {
   "cell_type": "markdown",
   "metadata": {},
   "source": [
    "Here our aim is to check whether a particular lookup ket say $\\ket{\\phi}$ exists within a set of provided set of kets say $ \\mathcal{S} = \\{ \\ket{\\psi_1}, \\ket{\\psi_2}, .. . ,\\ket{\\psi_n }  \\}$, and if so then what is the index of that particular ket in $\\mathcal{S}$. For example, if $\\ket{\\phi} = \\ket{\\psi_3}$ we want to know the index $3$ using a version of simultaneous SWAP tests.\n",
    "\n",
    "In later generalisation we can try to compare two different sets , say $\\mathcal{S_1}$ and $\\mathcal{S_2}$ to find an estimate of the number of elements at the intersection of of two sets, and the idexto those elements too.\n",
    "\n",
    "Note also that we want our algorithm to work even while the elements of $\\mathcal{S}$ are not all orthogonal to each other, as otherwise it would be of no real to use a quantum computer in the first place.geve"
   ]
  },
  {
   "cell_type": "markdown",
   "metadata": {},
   "source": [
    "### **Algorithm**"
   ]
  },
  {
   "cell_type": "markdown",
   "metadata": {},
   "source": [
    "To have some quantum advantage in our implementations we assume that we can prepare an equal superposition of all the states in our base set $\\mathcal{S}$ along with an ancilla specifying the index in the set, i.e a state of the form, \n",
    "$$      \\ket{\\mathcal{S}} \\: = \\: \\sum_{i = 1}^n \\ket{\\psi_i}\\ket{i}\n",
    "$$\n",
    "**Step 1 :** We start with a product state of the lookup ket $\\ket{\\phi}$ and the equal superposition state $\\ket{\\mathcal{S}}$, $ \\ket{step_1} \\:=\\: \\ket{\\phi} \\otimes \\ket{\\mathcal{S}}\\:=\\: \\ket{\\phi} \\otimes \\sum_{i = 1}^n \\ket{\\psi_i}\\ket{i} $\n",
    "\n",
    "**Step 2 :** We introduce an $\\ket{ancilla}$ qubit initiated at the equal superpostion state $\\ket{\\mathtt{+}}$ ; $  \\ket{step_2} \\:=\\: ( \\ket{0} + \\ket{1} ) \\otimes \\sum_{i} \\ket{\\phi}\\ket{\\psi_i}\\ket{i} $\n",
    "\n",
    "**Step 3:** Apply a cotrolled swap gate (`C-SWAP`) between the qubit registers, conditioned on the $\\ket{ancilla}$ ; $  \\ket{step_3} \\:=\\: \\ket{0} \\otimes \\big( \\sum_{i} \\ket{\\phi}\\ket{\\psi_i}\\ket{i} \\big) \\:+\\: \\ket{1} \\otimes \\big( \\sum_{i} \\ket{\\psi_i}\\ket{\\phi}\\ket{i} \\big)  $\n",
    "\n",
    "**Step 4:** Apply another Hadamard gate to the $\\ket{ancilla}$ to obtain,\n",
    "$$ \\ket{step_4} \\:=\\: \\ket{0} \\otimes \\sum_i \\big( \\ket{\\phi}\\ket{\\psi_i} + \\ket{\\psi_i}\\ket{\\phi}\\ \\big)\\ket{i} \\; + \\; \\ket{1} \\otimes \\sum_i \\big( \\ket{\\phi}\\ket{\\psi_i} - \\ket{\\psi_i}\\ket{\\phi}\\ \\big)\\ket{i} \n",
    "$$\n",
    "The last step is an essential part of the algorithm, note that the state in corresponding to $\\ket{1}$ in the ancilla is $\\big( \\ket{\\phi}\\ket{\\psi_i} - \\ket{\\psi_i}\\ket{\\phi}\\ \\big)$ which is zero whenever the lookup state $\\ket{\\phi}$ is same as $\\ket{\\psi_i}$, thus the corresponding state of the index register $\\ket{i}$ is annihilated. This though gives us some indication to which elements in the set $\\mathcal{S}$ are equal to the lookup state $\\ket{\\phi}$, it is not immediatley obvious how to recover those particular indices."
   ]
  },
  {
   "cell_type": "markdown",
   "metadata": {},
   "source": [
    "If we assume that all kets in $\\mathcal{S}$ as well as $\\ket{\\phi}$ are normalised,then the probability of measuring the state $\\ket{0}$ or $\\ket{1}$ in the ancilla is given by \n",
    "$$ \\mathbb{P}_{\\ket{0}} \\propto \\sum_i \\big( 1 + \\| \\braket{\\phi|\\psi_i} \\|^2 \\big) \\;\\;\\;  and  \\;\\;\\; \\mathbb{P}_{\\ket{1}} \\propto \\sum_i \\big( 1 - \\| \\braket{\\phi|\\psi_i} \\|^2 \\big) \n",
    "$$  \n",
    "However given that the sum is over all of the $n$ terms, we cannot locate the particular elements for which index states $\\ket{i}$ correspond to the equality, but it is obvious clear that in general it is much more probable to measure the ancilla in $\\ket{0}$ state than in $\\ket{1}$ state. Since it is not much of our use to have the ancilla in $\\ket{0}$ we can apply an grover operator to amplify $\\ket{1}$ state substantially. This is in particular helpful whenever the states in $\\mathcal{S}$ are close too $\\ket{\\phi}$ i.e has a high $ \\|\\braket{\\phi|\\psi_i}\\| $ value, as then $\\mathbb{P}_{\\ket{1}}$ and $\\mathbb{P}_{\\ket{0}}$ vary significantly.\n",
    "\n",
    "Note that the annihilation of states $\\ket{i}$ doesn't depend upon theier mutual inner product $ \\|\\braket{\\phi|\\psi_i}\\| $ but is rather absolute, which contributes somehow to feasibility of this algorithm especialy when the states in $\\mathcal{S}$ are close to $\\ket{\\phi}$ and is barely distiguishable upon their mutual inner product."
   ]
  },
  {
   "cell_type": "markdown",
   "metadata": {},
   "source": [
    "\n",
    "###### **NB :** Here we neglect overall normalisation factors unless specified"
   ]
  },
  {
   "cell_type": "markdown",
   "metadata": {},
   "source": [
    "#### **Example Implementation**"
   ]
  },
  {
   "cell_type": "markdown",
   "metadata": {},
   "source": [
    "Say we have $\\mathcal{S} = \\{ \\ket{r_y(0.3)} , \\ket{r_y(0.1)} , \\ket{r_y(0.6)} , \\ket{r_y(0.9)}  \\}$, where $\\ket{r_y(p)}$ refers to the state $\\hat{R}_y(p*2 \\pi)\\ket{0}$\n",
    "\n",
    "And lookup state $ \\ket{\\phi} = \\ket{r_y(0.1)} $"
   ]
  },
  {
   "cell_type": "code",
   "execution_count": 23,
   "metadata": {},
   "outputs": [],
   "source": [
    "## classical pre-processing ##\n",
    "mapping = { 0: 0.3, 1: 0.1, 2: 0.6, 3: 0.9 }"
   ]
  },
  {
   "cell_type": "code",
   "execution_count": 24,
   "metadata": {},
   "outputs": [
    {
     "data": {
      "text/plain": [
       "<qiskit.circuit.instructionset.InstructionSet at 0x7f7e6516a4c0>"
      ]
     },
     "execution_count": 24,
     "metadata": {},
     "output_type": "execute_result"
    }
   ],
   "source": [
    "## initiate ##\n",
    "ancilla = QuantumRegister(1, name= 'ancilla')\n",
    "qreg_set = QuantumRegister(1, name= 'set')\n",
    "qreg_lkp = QuantumRegister(1, name= 'lookup')\n",
    "qreg_index = QuantumRegister(2, name= 'index')\n",
    "\n",
    "qc = QuantumCircuit(ancilla, qreg_set, qreg_lkp, qreg_index)\n",
    "\n",
    "## prepare ##\n",
    "qc.h(ancilla)\n",
    "qc.h(qreg_index)\n",
    "\n",
    "qc.ry(0.1* 2 * pi, qreg_lkp)\n",
    "qc.barrier()"
   ]
  },
  {
   "cell_type": "code",
   "execution_count": 25,
   "metadata": {},
   "outputs": [],
   "source": [
    "## perepare superpostion ##\n",
    "for index in mapping.keys():\n",
    "    bit_conditional(index, qc, qreg_index)\n",
    "    qc.append( RYGate( mapping[index] * 2* pi ).control(len(qreg_index)), [  qreg_index[i] for i in range(len(qreg_index) ) ] + [ qreg_set]  )  \n",
    "    bit_conditional(index, qc, qreg_index)\n",
    "    qc.barrier()"
   ]
  },
  {
   "cell_type": "code",
   "execution_count": 26,
   "metadata": {},
   "outputs": [
    {
     "data": {
      "text/plain": [
       "<qiskit.circuit.instructionset.InstructionSet at 0x7f7e6b720900>"
      ]
     },
     "execution_count": 26,
     "metadata": {},
     "output_type": "execute_result"
    }
   ],
   "source": [
    "## conditional swap ##\n",
    "qc.append( SwapGate().control(1), [ancilla] + [qreg_set, qreg_lkp]  )\n",
    "qc.barrier()\n",
    "\n",
    "qc.h(ancilla)\n",
    "qc.barrier()"
   ]
  },
  {
   "cell_type": "code",
   "execution_count": 27,
   "metadata": {},
   "outputs": [
    {
     "data": {
      "image/png": "[encoded data removed]",
      "text/plain": [
       "<Figure size 1334.59x325.08 with 1 Axes>"
      ]
     },
     "execution_count": 27,
     "metadata": {},
     "output_type": "execute_result"
    }
   ],
   "source": [
    "qc.draw(output= 'mpl')"
   ]
  },
  {
   "cell_type": "code",
   "execution_count": 31,
   "metadata": {},
   "outputs": [
    {
     "data": {
      "image/png": "[encoded data removed]",
      "text/plain": [
       "<Figure size 504x360 with 1 Axes>"
      ]
     },
     "execution_count": 31,
     "metadata": {},
     "output_type": "execute_result"
    }
   ],
   "source": [
    "qc_m = qc.copy()\n",
    "creg_1 = ClassicalRegister(1, name='creg_ancilla')\n",
    "creg_2 = ClassicalRegister(2, name= 'creg_index')\n",
    "qc_m.add_register(creg_1)\n",
    "qc_m.add_register(creg_2)\n",
    "qc_m.measure(ancilla, creg_1 )\n",
    "qc_m.measure(qreg_index, creg_2)\n",
    "plot_histogram( execute(qc_m, shots= 100, backend= qsm).result().get_counts())\n"
   ]
  },
  {
   "cell_type": "code",
   "execution_count": 30,
   "metadata": {},
   "outputs": [
    {
     "data": {
      "text/plain": [
       "{'00 1': 37,\n",
       " '10 1': 133,\n",
       " '10 0': 127,\n",
       " '11 1': 33,\n",
       " '11 0': 214,\n",
       " '01 0': 254,\n",
       " '00 0': 202}"
      ]
     },
     "execution_count": 30,
     "metadata": {},
     "output_type": "execute_result"
    }
   ],
   "source": [
    "execute(qc_m, shots= 1000, backend= qsm).result().get_counts()"
   ]
  },
  {
   "cell_type": "markdown",
   "metadata": {},
   "source": [
    "You can see when the ancilla is in `1` the state of the index at `01` is missing..indiicating similarity"
   ]
  },
  {
   "cell_type": "code",
   "execution_count": null,
   "metadata": {},
   "outputs": [],
   "source": []
  }
 ],
 "metadata": {
  "kernelspec": {
   "display_name": "Python 3.10.4 64-bit",
   "language": "python",
   "name": "python3"
  },
  "language_info": {
   "codemirror_mode": {
    "name": "ipython",
    "version": 3
   },
   "file_extension": ".py",
   "mimetype": "text/x-python",
   "name": "python",
   "nbconvert_exporter": "python",
   "pygments_lexer": "ipython3",
   "version": "3.10.6"
  },
  "orig_nbformat": 4,
  "vscode": {
   "interpreter": {
    "hash": "31f2aee4e71d21fbe5cf8b01ff0e069b9275f58929596ceb00d14d90e3e16cd6"
   }
  }
 },
 "nbformat": 4,
 "nbformat_minor": 2
}
