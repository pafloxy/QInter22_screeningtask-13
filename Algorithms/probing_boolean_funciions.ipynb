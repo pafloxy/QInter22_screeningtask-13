{
 "cells": [
  {
   "cell_type": "markdown",
   "metadata": {},
   "source": [
    "[![CC BY-NC-SA 4.0][cc-by-nc-sa-shield]][cc-by-nc-sa]\n",
    "\n",
    "<!-- [![CC BY-NC-SA 4.0][cc-by-nc-sa-image]][cc-by-nc-sa] -->\n",
    "\n",
    "[cc-by-nc-sa]: http://creativecommons.org/licenses/by-nc-sa/4.0/\n",
    "[cc-by-nc-sa-image]: https://licensebuttons.net/l/by-nc-sa/4.0/88x31.png\n",
    "[cc-by-nc-sa-shield]: https://img.shields.io/badge/License-CC%20BY--NC--SA%204.0-lightgrey.svg\n"
   ]
  },
  {
   "cell_type": "code",
   "execution_count": 1,
   "metadata": {},
   "outputs": [],
   "source": [
    "from qiskit_utils import *"
   ]
  },
  {
   "cell_type": "markdown",
   "metadata": {},
   "source": [
    "##  **Probing the nature of Boolean Functions !**"
   ]
  },
  {
   "cell_type": "markdown",
   "metadata": {},
   "source": [
    "The Deusth-Josza algorithm gives aus an way of determining whether a given boolen fucntion $ \\mathtt{f}: \\{0,1\\}^n \\to \\{1,0\\} $ is balanced or constant, within a limited circuit depth. However, simply knowing a function to be balanced or constatnt doesn't reveal much about the nature of the boolean function itself, for example one might be interested in knowing what are the number of inputs $\\mathtt{\\vec{x}}$ such that $\\: \\mathtt{f(\\vec{x}) = 1 }\\: $ or $\\: \\mathtt{f(\\vec{x}) = 0 }\\:$ for that matter. Moreover assuming the $\\: \\mathtt{f} \\:$, to be either balanced or constant comprises the wide range of possible boolean functions."
   ]
  },
  {
   "cell_type": "markdown",
   "metadata": {},
   "source": [
    "To deal with this I have made a slight modification to or regular DJ algorithm, such that it allows us to probe into the nature of the boolean function by recasting necessary information into the amplitude of ancilla qubits. Once we done, we can read off the required iinformation from the probability distribution of the ancilla qubit itself. Below I give a brief overview of the algorithm and then move on to an example implementation"
   ]
  },
  {
   "cell_type": "markdown",
   "metadata": {},
   "source": [
    "#### **Algorithm**"
   ]
  },
  {
   "cell_type": "markdown",
   "metadata": {},
   "source": [
    "For a boolean function $ \\mathtt{f}: \\{0,1\\}^n \\to \\{1,0\\} $ we have some input strings $\\mathbf{ \\vec{x} \\in X_1}$ such that, $f(\\mathbf{\\vec{x}}) = 1 $ and some input strings  $\\mathbf{\\vec{x} \\in X_0}$ such that $f(\\mathbf{\\vec{x}}) = 0 $. Our aim here is to estimate $n_1 = \\mathbf{|X_1|}$ and $n_0 = \\mathbf{|X_0|}$."
   ]
  },
  {
   "cell_type": "markdown",
   "metadata": {},
   "source": [
    "As is the regular DJ algorithm assume that we have a Phase Oracle $\\mathbf{\\hat{O}_{f}}$ implementing $\\mathbf{\\hat{O}_{f}} \\ket{\\vec{x}} = (-1)^{\\mathtt{f(x)}} \\ket{\\vec{x}} $. We start the algorithm with the following elements,\n",
    "- an ancilla $\\ket{\\mathtt{control}}$ initiated in $\\ket{0}$\n",
    "- an ancilla $\\ket{\\mathtt{oracle}}$ initiated in $\\ket{-}$, which will be used to implement the phase oracle.\n",
    "- a register to contain the data qubits $\\ket{\\vec{x}}$\n",
    "- a classical register `creg`\n",
    "\n",
    "In the procedure below we will represent the overall state in the form, $\\: \\ket{\\psi} \\:=\\: \\ket{\\mathtt{control}} \\otimes \\ket{\\vec{x}} \\otimes \\ket{\\mathtt{oracle}} $  "
   ]
  },
  {
   "cell_type": "markdown",
   "metadata": {},
   "source": [
    "**Step 1 :**  Apply hadamards to all the qubits in the data registers, to create an equal superposition of all basis states ; $\\ket{\\psi_0} = \\ket{0} \\otimes \\sum_{i} \\ket{\\vec{x_i}} \\otimes \\ket{-}$, \n",
    "\n",
    "**Step 2 :**  Apply a hadamard $\\mathbf{\\hat{H}}$ on the $\\ket{\\mathtt{control}}$ register ; $ \\ket{\\psi_1} = \\ket{+} \\otimes \\sum_{i} \\ket{x_i} \\otimes \\ket{-} $\n",
    "\n",
    "**Step 3:**   Controlled on the $\\ket{\\mathtt{control}}$ register apply the phase oracle on the data register; $ \\ket{\\psi_3} = \\ket{0} \\otimes \\big( \\sum_{i} \\ket{x_i} \\otimes \\ket{-} \\big) +  \\ket{1} \\otimes \\big( \\sum_{i} \\mathbf{\\hat{O_f}} \\big( \\ket{x_i} \\otimes \\ket{-} \\big) \\big) =   \\ket{0} \\otimes \\sum_{i} \\ket{x_i} \\: + \\: \\ket{1} \\otimes \\big( \\sum_{i} (-1)^{f(\\vec{x})} \\ket{x_i} \\big) $ , where we have ignored the $\\mathtt{\\ket{oracle}}$ in the last expression.\n",
    "\n",
    "Now the last expression can be recast into\n",
    "$$ \\ket{\\psi_3}\\:=\\: \\ket{0} \\otimes \\big( \\sqrt{n_0}\\mathbf{ \\ket{X_0}} + \\sqrt{n_1} \\mathbf{ \\ket{X_1} }  \\big) \\: + \\: \\ket{1} \\otimes \\big( \\sqrt{n_0}\\mathbf{ \\ket{X_0}} - \\sqrt{n_1} \\mathbf{ \\ket{X_1} }  \\big)\n",
    "$$ \n",
    "where $\\mathbf{\\ket{X_0}} = \\sum_{\\vec{x} \\in X_0} \\frac{1}{\\sqrt{n_0}} \\ket{\\vec{x}} $ and $\\mathbf{\\ket{X_1}} = \\sum_{\\vec{x} \\in X_1} \\frac{1}{\\sqrt{n_1}} \\ket{\\vec{x}} $, \n",
    "\n",
    "\n",
    "**Step 4:** Next we operate another Hadamard $\\mathbf{\\hat{H}}$ on the the $\\mathtt{\\ket{control}}$, with some algebra the resulting state can be written as,\n",
    "$$  \\ket{\\psi_4} \\:=\\: \\ket{0} \\otimes \\sqrt{n_0}\\mathbf{\\ket{X_0}} \\:+\\: \\ket{1} \\otimes \\sqrt{n_1}\\mathbf{\\ket{X_1}}\n",
    "$$\n",
    "\n",
    "**Step 5:** Now we can simply measure the state of the $\\mathtt{\\ket{control}}$ to be in either $\\ket{0}$ or $\\ket{1}$ state , with probability \n",
    "$$  \\mathbb{P}_{\\ket{0}} \\propto n_0 \\;\\;\\; and \\;\\;\\; \\mathbb{P}_{\\ket{1}} \\propto n_1\n",
    "$$\n",
    "\n",
    "###### **NB :** in my calculations I have ignored overall normalisations unless specified."
   ]
  },
  {
   "cell_type": "markdown",
   "metadata": {},
   "source": [
    "#### **Example**\n",
    "\n",
    "For our problem, $x \\in \\{0,1\\}^4$ , and the oracle function is $f(x_1,x_2,x_3,x_4) = x_1x_2 + x_3x_4$"
   ]
  },
  {
   "cell_type": "markdown",
   "metadata": {},
   "source": [
    "So out of all 16 possible values of $x$, there are 7 values such that $f(x) = 1$ and 9 values such that $f(x) = 0$.\n",
    "\n",
    "Thus, $|X_1 |= 7$ and $|X_0| = 9$"
   ]
  },
  {
   "cell_type": "code",
   "execution_count": 7,
   "metadata": {},
   "outputs": [],
   "source": [
    "def oracle_f(nq= 4):\n",
    "    qreg, ancilla = QuantumRegister(nq), QuantumRegister(1)\n",
    "    qc = QuantumCircuit(qreg, ancilla, name= 'oracle')\n",
    "    qc.x(ancilla)\n",
    "    qc.h(ancilla)\n",
    "    qc.mcx([0,1], ancilla)\n",
    "    qc.mcx([2,3], ancilla)\n",
    "    qc.mcx([0,1,2,3], ancilla)\n",
    "    qc.h(ancilla)\n",
    "    qc.x(ancilla)\n",
    "    return qc.to_gate()"
   ]
  },
  {
   "cell_type": "code",
   "execution_count": 8,
   "metadata": {},
   "outputs": [
    {
     "data": {
      "text/html": [
       "<pre style=\"word-wrap: normal;white-space: pre;background: #fff0;line-height: 1.1;font-family: &quot;Courier New&quot;,Courier,monospace\">           ┌───┐ ░     ┌─────────┐         \n",
       "   qreg_0: ┤ H ├─░─────┤0        ├─────────\n",
       "           ├───┤ ░     │         │         \n",
       "   qreg_1: ┤ H ├─░─────┤1        ├─────────\n",
       "           ├───┤ ░     │         │         \n",
       "   qreg_2: ┤ H ├─░─────┤2 oracle ├─────────\n",
       "           ├───┤ ░     │         │         \n",
       "   qreg_3: ┤ H ├─░─────┤3        ├─────────\n",
       "           └───┘ ░     │         │         \n",
       "ancilla_1: ──────░─────┤4        ├─────────\n",
       "           ┌───┐ ░     └────┬────┘    ┌───┐\n",
       "ancilla_2: ┤ H ├─░──────────■─────────┤ H ├\n",
       "           └───┘ ░  controlled_oracle └───┘\n",
       "   creg: 1/════════════════════════════════\n",
       "                                           </pre>"
      ],
      "text/plain": [
       "           ┌───┐ ░     ┌─────────┐         \n",
       "   qreg_0: ┤ H ├─░─────┤0        ├─────────\n",
       "           ├───┤ ░     │         │         \n",
       "   qreg_1: ┤ H ├─░─────┤1        ├─────────\n",
       "           ├───┤ ░     │         │         \n",
       "   qreg_2: ┤ H ├─░─────┤2 oracle ├─────────\n",
       "           ├───┤ ░     │         │         \n",
       "   qreg_3: ┤ H ├─░─────┤3        ├─────────\n",
       "           └───┘ ░     │         │         \n",
       "ancilla_1: ──────░─────┤4        ├─────────\n",
       "           ┌───┐ ░     └────┬────┘    ┌───┐\n",
       "ancilla_2: ┤ H ├─░──────────■─────────┤ H ├\n",
       "           └───┘ ░  controlled_oracle └───┘\n",
       "   creg: 1/════════════════════════════════\n",
       "                                           "
      ]
     },
     "execution_count": 8,
     "metadata": {},
     "output_type": "execute_result"
    }
   ],
   "source": [
    "qreg, ancilla_1, ancilla_2 , creg = QuantumRegister(4, name= 'qreg'), QuantumRegister(1, name= 'ancilla_1'), QuantumRegister(1, name= 'ancilla_2'), ClassicalRegister(1, name='creg')\n",
    "qc = QuantumCircuit(qreg, ancilla_1, ancilla_2, creg)\n",
    "qc.h(ancilla_2)\n",
    "qc.h(qreg)\n",
    "qc.barrier()\n",
    "qc.append( oracle_f().control(1, label='controlled_oracle'),  [5,0,1,2,3,4])\n",
    "qc.h(ancilla_2)\n",
    "\n",
    "    \n",
    "# qc.decompose().draw()        \n",
    "qc.draw()    "
   ]
  },
  {
   "cell_type": "code",
   "execution_count": 4,
   "metadata": {},
   "outputs": [
    {
     "data": {
      "text/html": [
       "<pre style=\"word-wrap: normal;white-space: pre;background: #fff0;line-height: 1.1;font-family: &quot;Courier New&quot;,Courier,monospace\">           ┌───┐ ░     ┌─────────┐            \n",
       "   qreg_0: ┤ H ├─░─────┤0        ├────────────\n",
       "           ├───┤ ░     │         │            \n",
       "   qreg_1: ┤ H ├─░─────┤1        ├────────────\n",
       "           ├───┤ ░     │         │            \n",
       "   qreg_2: ┤ H ├─░─────┤2 oracle ├────────────\n",
       "           ├───┤ ░     │         │            \n",
       "   qreg_3: ┤ H ├─░─────┤3        ├────────────\n",
       "           └───┘ ░     │         │            \n",
       "ancilla_1: ──────░─────┤4        ├────────────\n",
       "           ┌───┐ ░     └────┬────┘    ┌───┐┌─┐\n",
       "ancilla_2: ┤ H ├─░──────────■─────────┤ H ├┤M├\n",
       "           └───┘ ░  controlled_oracle └───┘└╥┘\n",
       "   creg: 1/═════════════════════════════════╩═\n",
       "                                            0 </pre>"
      ],
      "text/plain": [
       "           ┌───┐ ░     ┌─────────┐            \n",
       "   qreg_0: ┤ H ├─░─────┤0        ├────────────\n",
       "           ├───┤ ░     │         │            \n",
       "   qreg_1: ┤ H ├─░─────┤1        ├────────────\n",
       "           ├───┤ ░     │         │            \n",
       "   qreg_2: ┤ H ├─░─────┤2 oracle ├────────────\n",
       "           ├───┤ ░     │         │            \n",
       "   qreg_3: ┤ H ├─░─────┤3        ├────────────\n",
       "           └───┘ ░     │         │            \n",
       "ancilla_1: ──────░─────┤4        ├────────────\n",
       "           ┌───┐ ░     └────┬────┘    ┌───┐┌─┐\n",
       "ancilla_2: ┤ H ├─░──────────■─────────┤ H ├┤M├\n",
       "           └───┘ ░  controlled_oracle └───┘└╥┘\n",
       "   creg: 1/═════════════════════════════════╩═\n",
       "                                            0 "
      ]
     },
     "execution_count": 4,
     "metadata": {},
     "output_type": "execute_result"
    }
   ],
   "source": [
    "shots = 11024\n",
    "qc.measure(ancilla_2, creg)\n",
    "job = execute(qc, backend= aer, shots= shots)\n",
    "counts = job.result().get_counts()\n",
    "qc.draw()"
   ]
  },
  {
   "cell_type": "code",
   "execution_count": 5,
   "metadata": {},
   "outputs": [
    {
     "data": {
      "image/png": "[encoded data removed]",
      "text/plain": [
       "<Figure size 504x360 with 1 Axes>"
      ]
     },
     "execution_count": 5,
     "metadata": {},
     "output_type": "execute_result"
    }
   ],
   "source": [
    "plot_histogram(counts)"
   ]
  },
  {
   "cell_type": "code",
   "execution_count": 6,
   "metadata": {},
   "outputs": [
    {
     "name": "stdout",
     "output_type": "stream",
     "text": [
      "|X1| : 7.039187227866473\n",
      "|X0| : 8.960812772133528\n"
     ]
    }
   ],
   "source": [
    "print('|X1| :', counts['1']*16/shots)\n",
    "print('|X0| :', counts['0']*16/shots)"
   ]
  },
  {
   "cell_type": "markdown",
   "metadata": {},
   "source": [
    "Which is close enough to out orginal values!"
   ]
  },
  {
   "cell_type": "markdown",
   "metadata": {},
   "source": [
    "#### **Discussion**"
   ]
  },
  {
   "cell_type": "markdown",
   "metadata": {},
   "source": [
    "This algorithm is generalisable for Boolean function of any arbitrary type that could be emulated using a quantum oracle. However here are some issues that we should consider ,\n",
    "- Unlike the case of vanilla DJ algorithm, this algorithm would require the action of the oracle to be controlled on the control ancilla which heavily increases the number of CNOT gates required while implementing this circuit on a real quantum device.\n",
    "- Our results here depends on the nUmerical value of the measurement probabilty of the control ancilla whereas in the vanilla DJ algorithm we only need to verify whether the data qubits are in an all zero state. Since we are already adding controlled operation, this numerical values might be affected by the noise introduced on NISQ device. One way to counter this could be to use more effecient *Amplitude Estimation* techniques like *Iterative Quantum Amplitude Estimation* or *QAE based on Maximum Liklihood Estimation*"
   ]
  },
  {
   "cell_type": "code",
   "execution_count": null,
   "metadata": {},
   "outputs": [],
   "source": []
  }
 ],
 "metadata": {
  "kernelspec": {
   "display_name": "Python 3.10.4 64-bit",
   "language": "python",
   "name": "python3"
  },
  "language_info": {
   "codemirror_mode": {
    "name": "ipython",
    "version": 3
   },
   "file_extension": ".py",
   "mimetype": "text/x-python",
   "name": "python",
   "nbconvert_exporter": "python",
   "pygments_lexer": "ipython3",
   "version": "3.10.4"
  },
  "orig_nbformat": 4,
  "vscode": {
   "interpreter": {
    "hash": "31f2aee4e71d21fbe5cf8b01ff0e069b9275f58929596ceb00d14d90e3e16cd6"
   }
  }
 },
 "nbformat": 4,
 "nbformat_minor": 2
}
