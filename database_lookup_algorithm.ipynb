{
 "cells": [
  {
   "cell_type": "code",
   "execution_count": 1,
   "metadata": {},
   "outputs": [],
   "source": [
    "from qiskit_utils import *"
   ]
  },
  {
   "cell_type": "markdown",
   "metadata": {},
   "source": [
    "## **Database Search Algorithm**"
   ]
  },
  {
   "cell_type": "markdown",
   "metadata": {},
   "source": [
    "Here our aim is to check whether a particular lookup ket say $\\ket{\\phi}$ exists within a set of provided set of kets say $ \\mathcal{S} = \\{ \\ket{\\psi_1}, \\ket{\\psi_2}, .. . ,\\ket{\\psi_n }  \\}$, and if so then what is the index of that particular ket in $\\mathcal{S}$. For example, if $\\ket{\\phi} = \\ket{\\psi_3}$ we want to know the index $3$ using our algorithm.\n",
    "\n",
    "In later generalisation we can try to compare two different sets , say $\\mathcal{S_1}$ and $\\mathcal{S_2}$ to find an estimate of the number of elements at the intersection of of two sets, and the idexto those elements too.\n",
    "\n",
    "Note also that we want our algorithm to work even while the elements of $\\mathcal{S}$ are not all orthogonal to each other, as otherwise it would be of no real to use a quantum computer in the first place.geve"
   ]
  },
  {
   "cell_type": "markdown",
   "metadata": {},
   "source": [
    "### **Algorithm**"
   ]
  },
  {
   "cell_type": "markdown",
   "metadata": {},
   "source": [
    "To have some quantum advantage in our implementations we assume that we can prepare an equal superposition of all the states in our base set $\\mathcal{S}$ along with an ancilla specifying the index in the set, i.e a state of the form, \n",
    "$$      \\ket{\\mathcal{S}} \\: = \\: \\sum_{i = 1}^n \\ket{\\psi_i}\\ket{i}\n",
    "$$\n",
    "**Step 1 :** We start with a product state of the lookup ket $\\ket{\\phi}$ and the equal superposition state $\\ket{\\mathcal{S}}$, $ \\ket{step_1} \\:=\\: \\ket{\\phi} \\otimes \\ket{\\mathcal{S}}\\:=\\: \\ket{\\phi} \\otimes \\sum_{i = 1}^n \\ket{\\psi_i}\\ket{i} $\n",
    "\n",
    "**Step 2 :** We introduce an $\\ket{ancilla}$ qubit initiated at the equal superpostion state $\\ket{\\mathtt{+}}$ ; $  \\ket{step_2} \\:=\\: ( \\ket{0} + \\ket{1} ) \\otimes \\sum_{i} \\ket{\\phi}\\ket{\\psi_i}\\ket{i} $\n",
    "\n",
    "**Step 3:** Apply a cotrolled swap gate (`C-SWAP`) between the qubit registers, conditioned on the $\\ket{ancilla}$ ; $  \\ket{step_3} \\:=\\: \\ket{0} \\otimes \\big( \\sum_{i} \\ket{\\phi}\\ket{\\psi_i}\\ket{i} \\big) \\:+\\: \\ket{1} \\otimes \\big( \\sum_{i} \\ket{\\psi_i}\\ket{\\phi}\\ket{i} \\big)  $\n",
    "\n",
    "**Step 4:** Apply another Hadamard gate to the $\\ket{ancilla}$ to obtain,\n",
    "$$ \\ket{step_4} \\:=\\: \\ket{0} \\otimes \\sum_i \\big( \\ket{\\phi}\\ket{\\psi_i} + \\ket{\\psi_i}\\ket{\\phi}\\ \\big)\\ket{i} \\; + \\; \\ket{1} \\otimes \\sum_i \\big( \\ket{\\phi}\\ket{\\psi_i} - \\ket{\\psi_i}\\ket{\\phi}\\ \\big)\\ket{i} \n",
    "$$\n",
    "\n",
    "###### **NB :** Here we neglect overall normalisation factors unless specified"
   ]
  },
  {
   "cell_type": "markdown",
   "metadata": {},
   "source": []
  }
 ],
 "metadata": {
  "kernelspec": {
   "display_name": "Python 3.10.4 64-bit",
   "language": "python",
   "name": "python3"
  },
  "language_info": {
   "codemirror_mode": {
    "name": "ipython",
    "version": 3
   },
   "file_extension": ".py",
   "mimetype": "text/x-python",
   "name": "python",
   "nbconvert_exporter": "python",
   "pygments_lexer": "ipython3",
   "version": "3.10.4"
  },
  "orig_nbformat": 4,
  "vscode": {
   "interpreter": {
    "hash": "31f2aee4e71d21fbe5cf8b01ff0e069b9275f58929596ceb00d14d90e3e16cd6"
   }
  }
 },
 "nbformat": 4,
 "nbformat_minor": 2
}
