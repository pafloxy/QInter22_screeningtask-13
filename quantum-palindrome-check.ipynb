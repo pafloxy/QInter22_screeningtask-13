{
 "cells": [
  {
   "cell_type": "markdown",
   "metadata": {},
   "source": [
    "[![CC BY-NC-SA 4.0][cc-by-nc-sa-shield]][cc-by-nc-sa]\n",
    "\n",
    "<!-- [![CC BY-NC-SA 4.0][cc-by-nc-sa-image]][cc-by-nc-sa] -->\n",
    "\n",
    "[cc-by-nc-sa]: http://creativecommons.org/licenses/by-nc-sa/4.0/\n",
    "[cc-by-nc-sa-image]: https://licensebuttons.net/l/by-nc-sa/4.0/88x31.png\n",
    "[cc-by-nc-sa-shield]: https://img.shields.io/badge/License-CC%20BY--NC--SA%204.0-lightgrey.svg\n"
   ]
  },
  {
   "cell_type": "code",
   "execution_count": 1,
   "metadata": {},
   "outputs": [],
   "source": [
    "from qiskit_utils import *"
   ]
  },
  {
   "cell_type": "markdown",
   "metadata": {},
   "source": [
    "## **Quantum Palindrome Checking**"
   ]
  },
  {
   "cell_type": "markdown",
   "metadata": {},
   "source": [
    "In this problem our aim is to devise a quantum algorithm which can recognise whether a given string sequence is palindromic or not. To check whether a given sequence is a palindrome or not is a classic programming problem, however here I will try to elaborate a technique using which we can not only check classical strings but also more genralised string of quantum alphabets. \n",
    "\n",
    "For an quantum algorithm that solves this problem for calssical binary strings check out the \\href{https://github.com/qosf/monthly-challenges}{qosf-monthly-challenges} repo."
   ]
  },
  {
   "cell_type": "markdown",
   "metadata": {},
   "source": [
    "### **Quantum Alphabets**\n",
    "\n",
    "In the usual classical sense an alphabet could be any finite set distinguishable symbols, for eg. $\\mathcal{A}:$ {`a`, `b`, `c`, `d`, `e`} or $\\mathcal{A}:$ {`1`, `2`, `3`}, etc. To generalise this idea to include quantum states we can say than an *quantum alphabet* is a set of distinct of quantum states, for eg. $\\mathcal{A}:$ {$\\ket{\\phi_1}$,$\\ket{\\phi_2}$,$\\ket{\\phi_3}$}. However note that that here 'distinct' doesn't necessarily mean orthogonal, so even while the quantum states are distinct in the sense that $ \\ket{\\phi_2} \\neq \\ket{\\phi_1}$, they might not be classicaly distiguishable.\n",
    "\n",
    "For eg. $\\mathcal{A}:$ {$ \\ket{\\phi_1} = \\: \\ket{0} + e^{-i \\frac{\\pi}{2}} \\ket{1}$, $\\ket{\\phi_2} = \\:\\ket{0} + e^{-i \\pi}\\ket{1}$, $\\ket{\\phi_3} = \\: \\ket{0} + e^{-i \\frac{3\\pi}{2}}\\ket{1}$}"
   ]
  },
  {
   "cell_type": "markdown",
   "metadata": {},
   "source": [
    "### **Palindrome Checking**"
   ]
  },
  {
   "cell_type": "markdown",
   "metadata": {},
   "source": [
    "Ususally the strings we need to check would be of the strings of the form `1324321` or `abdcdab` ,etc. The usual way of handling them is to iteratively compare the subsquent bits of the original string against the reversed string. Since classical strings whatever be number or alphabets can be always decompsed into binary representations, it suffices to run the palindrome checking algorithm on the binary representation of the string. For eg. given a binary string `101100` we can compare it bitwise with the string `001101` to check if it is palindromic.\n",
    "\n",
    "However given a string of quantum alphabet , say `str :`$\\mathtt{\\ket{\\phi_2}\\ket{\\phi_1}\\ket{\\phi_3}\\ket{\\phi_2}}$ a qubit-wise comparison might not be very effecient or even possible given the non-orthogoal nature of the quantum alphabets. Thus we will try to use a different approach more sutied for quantum states and also highlight whether such an algorithm could have a quantum advantage."
   ]
  },
  {
   "cell_type": "markdown",
   "metadata": {},
   "source": [
    "#### **Algorithm**\n",
    "Before moving onto the quantum algorithm there are some assumptions we need to make,\n",
    "1. The length of the string needs to be a dyadic i.e a power of 2. Though this might not very          convenient we can always pad a regular string to this form. \n",
    "2. "
   ]
  },
  {
   "cell_type": "markdown",
   "metadata": {},
   "source": [
    "Here I will describe the algorithm using an example and later point towards a possible generalisation.\n",
    "\n",
    "**Step 1:** The first thing to do would be to load the elements of the quantum string into the memory using the QRAM implementations. For example if the string is `str :`$\\mathtt{\\ket{\\phi_2}\\ket{\\phi_1}\\ket{\\phi_3}\\ket{\\phi_2}}$ the corresponding QRAM encoding would be, \n",
    "$$          \\ket{\\mathtt{data}} = \\mathtt{ \\ket{\\phi_2}\\ket{00} + \\ket{\\phi_1}\\ket{01} + \\ket{\\phi_3}\\ket{10} + \\ket{\\phi_2}\\ket{11}  }\n",
    "$$"
   ]
  },
  {
   "cell_type": "markdown",
   "metadata": {},
   "source": [
    "\n",
    "**Step 2:**  Now to check whether the given string is a palidrome we should essentially compare the elements for which the data-registers are farthest apart, i.e compare the data at $\\mathtt{\\ket{00}}$ with the data at $\\mathtt{\\ket{11}}$ and the data at $\\mathtt{\\ket{01}}$ with the data at $\\mathtt{\\ket{10}}$ and so on. \n",
    "\n",
    " Incase if all of them match up we can say that the quantum string is a palindrome, for our case the data-elements at $\\mathtt{\\ket{11}}$ and $\\mathtt{\\ket{00}}$ match up and is equal to $\\mathtt{\\ket{\\phi_2}}$ wheras the data-elements at $\\mathtt{\\ket{10}}$ and $\\mathtt{\\ket{01}}$ are different.\n",
    "\n",
    " To do this comparison here we introduce an ancilla qubit $\\ket{\\mathtt{ancilla_1}}$ initiated in $\\ket{\\mathtt{0}}$, and then do CNOT on it controlled on the most significant bit of the adress register\n",
    " $$     \\ket{\\mathtt{data}}  =  \\mathtt{ \\ket{\\phi_2}\\ket{00}\\ket{0} + \\ket{\\phi_1}\\ket{01}\\ket{0} + \\ket{\\phi_3}\\ket{10}\\ket{1} + \\ket{\\phi_2}\\ket{11}\\ket{1}}\n",
    " $$\n",
    "\n",
    "Next controlled on $\\mathtt{\\ket{ancilla_1}}$ we do a CNOT on the elements of the adress register,\n",
    "$$\n",
    "  \\ket{\\mathtt{data}} = \\mathtt{ \\ket{\\phi_2}\\ket{00}\\ket{0} + \\ket{\\phi_1}\\ket{01}\\ket{0} + \\ket{\\phi_3}\\ket{01}\\ket{1} + \\ket{\\phi_2}\\ket{00}\\ket{1}} \\\\\n",
    "  \n",
    "$$\n",
    "\n",
    "this can reshuffled into \n",
    "$$ \\ket{\\mathtt{data}} =  \\mathtt{ \\ket{00}\\left(\\ket{\\phi_2}\\ket{0} + \\ket{\\phi_2}\\ket{1} \\right) + \\ket{01} \\left( \\ket{\\phi_1}\\ket{0} + \\ket{\\phi_3}\\ket{1} \\right) }  \\\\\n",
    "$$\n",
    "\n",
    "finally do a $\\mathbf{\\hat{H}}$ operation on the $\\mathtt{\\ket{ancilla_1}}$, \n",
    "\n",
    "$$ \\ket{\\mathtt{data}} =  \\mathtt{ \\ket{00}\\left( \\left( \\ket{\\phi_2} + \\ket{\\phi_2} \\right)\\ket{0} +\n",
    "\\left( \\ket{\\phi_2} - \\ket{\\phi_2} \\right)\\ket{1} \\right) + \\ket{01}\\left( \\left( \\ket{\\phi_3} + \\ket{\\phi_1} \\right)\\ket{0} +\n",
    "\\left( \\ket{\\phi_3} - \\ket{\\phi_1} \\right)\\ket{1} \\right)}\n",
    "$$"
   ]
  },
  {
   "cell_type": "markdown",
   "metadata": {},
   "source": [
    "**Step 3:** The last step makes the necessary comparison between the elements as required for this checking. We can check the result of the comparison directly by looking at the $\\mathtt{\\ket{ancilla_1}}$ register since for states matching up they can never be found in the $\\mathtt{\\ket{1}}$ state,\n",
    "\n",
    "$$ \\ket{\\mathtt{data}} =  \\mathtt{ \\ket{00}\\left( \\left( \\ket{\\phi_2} + \\ket{\\phi_2} \\right)\\ket{0}\n",
    " \\right) + \\ket{01}\\left( \\left( \\ket{\\phi_3} + \\ket{\\phi_1} \\right)\\ket{0} +\n",
    "\\left( \\ket{\\phi_3} - \\ket{\\phi_1} \\right)\\ket{1} \\right)}\n",
    "$$\n",
    "\n",
    "Once the above mentioned state is prepared we can measure the $\\mathtt{\\ket{ancilla_1}}$ in the computational basis, if the quantum string is a palindrome then all the comparisons should be a success and thus can only be found in the state $\\mathtt{\\ket{0}}$. Even if we obtain a single $\\mathtt{\\ket{1}}$ we can infer that the string is not a palidrome.\n",
    "\n",
    "We can also determine the indices at which the elements do not match-up by measuring the adress register alongwith the $\\mathtt{\\ket{ancilla_1}}$, however these would require more number of measureements than the former."
   ]
  },
  {
   "cell_type": "markdown",
   "metadata": {},
   "source": [
    "#### **Example**\n",
    "Here I will give an implmentation of the above algorithm."
   ]
  },
  {
   "cell_type": "code",
   "execution_count": 40,
   "metadata": {},
   "outputs": [
    {
     "data": {
      "text/html": [
       "<pre style=\"word-wrap: normal;white-space: pre;background: #fff0;line-height: 1.1;font-family: &quot;Courier New&quot;,Courier,monospace\">                   \n",
       "    data-reg: ─────\n",
       "              ┌───┐\n",
       "adress-reg_0: ┤ H ├\n",
       "              ├───┤\n",
       "adress-reg_1: ┤ H ├\n",
       "              └───┘</pre>"
      ],
      "text/plain": [
       "                   \n",
       "    data-reg: ─────\n",
       "              ┌───┐\n",
       "adress-reg_0: ┤ H ├\n",
       "              ├───┤\n",
       "adress-reg_1: ┤ H ├\n",
       "              └───┘"
      ]
     },
     "execution_count": 40,
     "metadata": {},
     "output_type": "execute_result"
    }
   ],
   "source": [
    "## INIT ##\n",
    "quantum_alphabet = dict([('psi_1', RYGate( pi / 2, label= 'psi_1')), ('psi_2', RYGate( pi , label= 'psi_2')), ('psi_3', RYGate(3 * pi /2, label= 'psi_3'))])\n",
    "\n",
    "data_reg = QuantumRegister(1, name= 'data-reg')\n",
    "adress_reg = QuantumRegister(2, name= 'adress-reg')\n",
    "\n",
    "qc = QuantumCircuit(data_reg, adress_reg)\n",
    "qc.h(adress_reg)\n",
    "\n",
    "qc.draw()"
   ]
  },
  {
   "cell_type": "code",
   "execution_count": 41,
   "metadata": {},
   "outputs": [
    {
     "data": {
      "text/html": [
       "<pre style=\"word-wrap: normal;white-space: pre;background: #fff0;line-height: 1.1;font-family: &quot;Courier New&quot;,Courier,monospace\">                    ░      ┌──────────┐      ░      ┌────────────┐      ░      »\n",
       "    data-reg: ──────░──────┤ psi_2(π) ├──────░──────┤ psi_1(π/2) ├──────░──────»\n",
       "              ┌───┐ ░ ┌───┐└────┬─────┘┌───┐ ░      └─────┬──────┘      ░ ┌───┐»\n",
       "adress-reg_0: ┤ H ├─░─┤ X ├─────■──────┤ X ├─░────────────■─────────────░─┤ X ├»\n",
       "              ├───┤ ░ ├───┤     │      ├───┤ ░ ┌───┐      │       ┌───┐ ░ └───┘»\n",
       "adress-reg_1: ┤ H ├─░─┤ X ├─────■──────┤ X ├─░─┤ X ├──────■───────┤ X ├─░──────»\n",
       "              └───┘ ░ └───┘            └───┘ ░ └───┘              └───┘ ░      »\n",
       "«              ┌────────────┐      ░ ┌──────────┐\n",
       "«    data-reg: ┤ psi_1(π/2) ├──────░─┤ psi_2(π) ├\n",
       "«              └─────┬──────┘┌───┐ ░ └────┬─────┘\n",
       "«adress-reg_0: ──────■───────┤ X ├─░──────■──────\n",
       "«                    │       └───┘ ░      │      \n",
       "«adress-reg_1: ──────■─────────────░──────■──────\n",
       "«                                  ░             </pre>"
      ],
      "text/plain": [
       "                    ░      ┌──────────┐      ░      ┌────────────┐      ░      »\n",
       "    data-reg: ──────░──────┤ psi_2(π) ├──────░──────┤ psi_1(π/2) ├──────░──────»\n",
       "              ┌───┐ ░ ┌───┐└────┬─────┘┌───┐ ░      └─────┬──────┘      ░ ┌───┐»\n",
       "adress-reg_0: ┤ H ├─░─┤ X ├─────■──────┤ X ├─░────────────■─────────────░─┤ X ├»\n",
       "              ├───┤ ░ ├───┤     │      ├───┤ ░ ┌───┐      │       ┌───┐ ░ └───┘»\n",
       "adress-reg_1: ┤ H ├─░─┤ X ├─────■──────┤ X ├─░─┤ X ├──────■───────┤ X ├─░──────»\n",
       "              └───┘ ░ └───┘            └───┘ ░ └───┘              └───┘ ░      »\n",
       "«              ┌────────────┐      ░ ┌──────────┐\n",
       "«    data-reg: ┤ psi_1(π/2) ├──────░─┤ psi_2(π) ├\n",
       "«              └─────┬──────┘┌───┐ ░ └────┬─────┘\n",
       "«adress-reg_0: ──────■───────┤ X ├─░──────■──────\n",
       "«                    │       └───┘ ░      │      \n",
       "«adress-reg_1: ──────■─────────────░──────■──────\n",
       "«                                  ░             "
      ]
     },
     "execution_count": 41,
     "metadata": {},
     "output_type": "execute_result"
    }
   ],
   "source": [
    "## STEP 1 ##\n",
    "quantum_string = [ 'psi_2', 'psi_3', 'psi_1', 'psi_2' ]\n",
    "for item in list(enumerate(quantum_string)):\n",
    "    qc.barrier()\n",
    "    bit_conditional(item[0], qc, adress_reg)\n",
    "    qc.append( quantum_alphabet[item[1]].control(len(adress_reg)), [1,2,0]  )\n",
    "    bit_conditional(item[0], qc, adress_reg)\n",
    "    \n",
    "qc.draw()"
   ]
  },
  {
   "cell_type": "code",
   "execution_count": 42,
   "metadata": {},
   "outputs": [
    {
     "data": {
      "text/html": [
       "<pre style=\"word-wrap: normal;white-space: pre;background: #fff0;line-height: 1.1;font-family: &quot;Courier New&quot;,Courier,monospace\">                    ░      ┌──────────┐      ░      ┌────────────┐      ░      »\n",
       "    data-reg: ──────░──────┤ psi_2(π) ├──────░──────┤ psi_1(π/2) ├──────░──────»\n",
       "              ┌───┐ ░ ┌───┐└────┬─────┘┌───┐ ░      └─────┬──────┘      ░ ┌───┐»\n",
       "adress-reg_0: ┤ H ├─░─┤ X ├─────■──────┤ X ├─░────────────■─────────────░─┤ X ├»\n",
       "              ├───┤ ░ ├───┤     │      ├───┤ ░ ┌───┐      │       ┌───┐ ░ └───┘»\n",
       "adress-reg_1: ┤ H ├─░─┤ X ├─────■──────┤ X ├─░─┤ X ├──────■───────┤ X ├─░──────»\n",
       "              └───┘ ░ └───┘            └───┘ ░ └───┘              └───┘ ░      »\n",
       "   ancilla_1: ─────────────────────────────────────────────────────────────────»\n",
       "                                                                               »\n",
       "«              ┌────────────┐      ░ ┌──────────┐ ░                 ░      \n",
       "«    data-reg: ┤ psi_1(π/2) ├──────░─┤ psi_2(π) ├─░─────────────────░──────\n",
       "«              └─────┬──────┘┌───┐ ░ └────┬─────┘ ░           ┌───┐ ░      \n",
       "«adress-reg_0: ──────■───────┤ X ├─░──────■───────░───────────┤ X ├─░──────\n",
       "«                    │       └───┘ ░      │       ░      ┌───┐└─┬─┘ ░      \n",
       "«adress-reg_1: ──────■─────────────░──────■───────░───■──┤ X ├──┼───░──────\n",
       "«                                  ░              ░ ┌─┴─┐└─┬─┘  │   ░ ┌───┐\n",
       "«   ancilla_1: ─────────────────────────────────────┤ X ├──■────■───░─┤ H ├\n",
       "«                                                   └───┘           ░ └───┘</pre>"
      ],
      "text/plain": [
       "                    ░      ┌──────────┐      ░      ┌────────────┐      ░      »\n",
       "    data-reg: ──────░──────┤ psi_2(π) ├──────░──────┤ psi_1(π/2) ├──────░──────»\n",
       "              ┌───┐ ░ ┌───┐└────┬─────┘┌───┐ ░      └─────┬──────┘      ░ ┌───┐»\n",
       "adress-reg_0: ┤ H ├─░─┤ X ├─────■──────┤ X ├─░────────────■─────────────░─┤ X ├»\n",
       "              ├───┤ ░ ├───┤     │      ├───┤ ░ ┌───┐      │       ┌───┐ ░ └───┘»\n",
       "adress-reg_1: ┤ H ├─░─┤ X ├─────■──────┤ X ├─░─┤ X ├──────■───────┤ X ├─░──────»\n",
       "              └───┘ ░ └───┘            └───┘ ░ └───┘              └───┘ ░      »\n",
       "   ancilla_1: ─────────────────────────────────────────────────────────────────»\n",
       "                                                                               »\n",
       "«              ┌────────────┐      ░ ┌──────────┐ ░                 ░      \n",
       "«    data-reg: ┤ psi_1(π/2) ├──────░─┤ psi_2(π) ├─░─────────────────░──────\n",
       "«              └─────┬──────┘┌───┐ ░ └────┬─────┘ ░           ┌───┐ ░      \n",
       "«adress-reg_0: ──────■───────┤ X ├─░──────■───────░───────────┤ X ├─░──────\n",
       "«                    │       └───┘ ░      │       ░      ┌───┐└─┬─┘ ░      \n",
       "«adress-reg_1: ──────■─────────────░──────■───────░───■──┤ X ├──┼───░──────\n",
       "«                                  ░              ░ ┌─┴─┐└─┬─┘  │   ░ ┌───┐\n",
       "«   ancilla_1: ─────────────────────────────────────┤ X ├──■────■───░─┤ H ├\n",
       "«                                                   └───┘           ░ └───┘"
      ]
     },
     "execution_count": 42,
     "metadata": {},
     "output_type": "execute_result"
    }
   ],
   "source": [
    "## STEP 2 ##\n",
    "qc.barrier()\n",
    "ancilla_1 = QuantumRegister(1, name='ancilla_1')\n",
    "qc.add_register(ancilla_1)\n",
    "\n",
    "qc.cx(  adress_reg[1], ancilla_1[0])\n",
    "\n",
    "qc.cx(ancilla_1[0], adress_reg[1])\n",
    "qc.cx(ancilla_1[0], adress_reg[0])\n",
    "\n",
    "qc.barrier()\n",
    "qc.h(ancilla_1)\n",
    "\n",
    "qc.draw()"
   ]
  },
  {
   "cell_type": "code",
   "execution_count": 43,
   "metadata": {},
   "outputs": [
    {
     "data": {
      "image/png": "[encoded data removed]",
      "text/plain": [
       "<Figure size 504x360 with 1 Axes>"
      ]
     },
     "execution_count": 43,
     "metadata": {},
     "output_type": "execute_result"
    }
   ],
   "source": [
    "## STEP 3 ##\n",
    "creg_check = ClassicalRegister(1, name= 'creg_check')\n",
    "qc.add_register(creg_check)\n",
    "\n",
    "shots = 10\n",
    "qc_c = qc.copy()\n",
    "qc_c.measure(ancilla_1, creg_check)\n",
    "counts = execute(qc_c, qsm, shots= shots).result().get_counts()\n",
    "plot_histogram(counts)\n"
   ]
  },
  {
   "cell_type": "markdown",
   "metadata": {},
   "source": [
    "#### **Analysis and Discussions**\n",
    "It is clear that the above algorithm could be generalised to any number of data elements given that it follows the required assumptions. Next, we can try to derive some performance gurantees to see whether our algorithm has an advantage over classical algorithms.\n",
    "\n",
    "To start with, implementing the data-loading phase using QRAM would require $n$ multi-controlled toffoli gates acting on the data-register controlled by $log (n)$ qubits in the adress-register. This step might add excessive CNOT counts to the circuit and increase the depth drastically making it prone to decoherence errors when implemnted on NISQ devices, however given that QRAM is a widely accepted data-structure for quantum computers we will henceforth exclude cost of implementing it in our analysis.\n",
    "\n",
    "Other than that the only contribution to the circuit-complexity comes from the $log (n)$ CNOT gates acting on the adress-register controlled by the ancilla.\n",
    "\n",
    "However, the success of the algorithm depends explicitly on being able to sample the state of ancilla. In for a string of length $2^n$ the algorithm will make around $2^{n-1}$ comparisons and the result of the comparison would be readout to the entangled ancilla. If for instance all comparisons yield $\\mathtt{\\ket{0}}$ other than one $\\mathtt{\\ket{1}}$ the probability of measuring it would be around $\\mathcal{P}_{\\mathtt{\\ket{1}}} \\approx \\frac{1}{2^{n-1}}$, thus in the worst case we need to run the circuit $\\mathcal{O}(2^{n-1})$ times to correctly classify the string.\n",
    "\n",
    "A possible workaround to this would be to use Quantum Amplitude Amplification to amplify the probability of getting $\\mathtt{\\ket{1}}$ in the ancilla, but this might in tutrn lead to increase in circuit depth of the algorithm."
   ]
  },
  {
   "cell_type": "code",
   "execution_count": null,
   "metadata": {},
   "outputs": [],
   "source": []
  }
 ],
 "metadata": {
  "kernelspec": {
   "display_name": "Python 3.10.6 64-bit",
   "language": "python",
   "name": "python3"
  },
  "language_info": {
   "codemirror_mode": {
    "name": "ipython",
    "version": 3
   },
   "file_extension": ".py",
   "mimetype": "text/x-python",
   "name": "python",
   "nbconvert_exporter": "python",
   "pygments_lexer": "ipython3",
   "version": "3.10.6"
  },
  "orig_nbformat": 4,
  "vscode": {
   "interpreter": {
    "hash": "31f2aee4e71d21fbe5cf8b01ff0e069b9275f58929596ceb00d14d90e3e16cd6"
   }
  }
 },
 "nbformat": 4,
 "nbformat_minor": 2
}
