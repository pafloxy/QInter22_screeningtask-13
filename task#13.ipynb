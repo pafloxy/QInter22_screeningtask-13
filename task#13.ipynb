{
 "cells": [
  {
   "cell_type": "code",
   "execution_count": 2,
   "metadata": {},
   "outputs": [],
   "source": [
    "## imports\n",
    "from qiskit import *\n",
    "from qiskit.algorithms import *\n",
    "from qiskit import QuantumRegister, ClassicalRegister, QuantumCircuit\n",
    "from qiskit import quantum_info, IBMQ, Aer\n",
    "from qiskit import BasicAer\n",
    "from qiskit.utils import QuantumInstance\n",
    "# backend = BasicAer.get_backend(\"statevector_simulator\")\n",
    "# quantum_instance = QuantumInstance(backend)\n",
    "from qiskit.algorithms import AmplitudeEstimation\n",
    "#from qiskit.ignis.verification.tomography import state_tomography_circuits, StateTomographyFitter\n",
    "from qiskit.visualization import plot_histogram, plot_state_qsphere, plot_bloch_multivector, plot_bloch_vector\n",
    "import numpy as np\n",
    "from numpy import pi\n",
    "import seaborn as sns\n",
    "from IPython.display import Image\n",
    "import matplotlib.pyplot as plt"
   ]
  },
  {
   "cell_type": "code",
   "execution_count": 66,
   "metadata": {},
   "outputs": [
    {
     "name": "stderr",
     "output_type": "stream",
     "text": [
      "ibmqfactory.load_account:WARNING:2022-06-22 00:25:56,194: Credentials are already in use. The existing account in the session will be replaced.\n"
     ]
    }
   ],
   "source": [
    "# setup qiskit using IBM_id\n",
    "# IBMQ.save_account(\"1c62e8a0d2b058d0e797db9c811bc34582df5553e25812301cd1518662c0ab68d2378ac6c197b65f8be944d04b7e7439f034e3926a44fa8088538b3d13782c1a\", overwrite= True)\n",
    "provider = IBMQ.load_account()\n",
    "IBMQ.get_provider(hub='ibm-q-education', group='iit-madras-1', project='quantum-computin')\n",
    "# setup required backends \n",
    "lima = provider.get_backend('ibmq_lima')\n",
    "manila = provider.get_backend('ibmq_manila')\n",
    "qsm = Aer.get_backend('qasm_simulator')\n",
    "stv = Aer.get_backend('statevector_simulator')\n",
    "aer = Aer.get_backend('aer_simulator')"
   ]
  },
  {
   "cell_type": "markdown",
   "metadata": {},
   "source": [
    "## Probing the nature of Boolean Functions !"
   ]
  },
  {
   "cell_type": "markdown",
   "metadata": {},
   "source": [
    "For a boolean function $ f: \\{0,1\\}^n \\to \\{1,0\\} $ we want to find the number of inputs $\\mathbf{x \\in X_1}$ such that, $f(\\mathbf{x}) = 1 $ and the number of inputs $\\mathbf{x \\in X_0}$ such that $f(\\mathbf{x}) = 0 $, i.e to estimate $|X_1|$ and $|X_0|$.\n",
    "\n",
    "This is kinda' an plausible extension to the vanilla Deustch-Josza algorithm !"
   ]
  },
  {
   "cell_type": "markdown",
   "metadata": {},
   "source": [
    "For our problem, $x \\in \\{0,1\\}^4$ , and the oracle function is $f(x_1,x_2,x_3,x_4) = x_1x_2 + x_3x_4$"
   ]
  },
  {
   "cell_type": "markdown",
   "metadata": {},
   "source": [
    "So out of all 16 possible values of $x$, there are 7 values such that $f(x) = 1$ and 9 values such that $f(x) = 0$.\n",
    "\n",
    "Thus, $|X_1 |= 7$ and $|X_0| = 9$"
   ]
  },
  {
   "cell_type": "code",
   "execution_count": 123,
   "metadata": {},
   "outputs": [],
   "source": [
    "def oracle_f(nq= 4):\n",
    "    qreg, ancilla = QuantumRegister(nq), QuantumRegister(1)\n",
    "    qc = QuantumCircuit(qreg, ancilla, name= 'oracle')\n",
    "    qc.x(ancilla)\n",
    "    qc.h(ancilla)\n",
    "    qc.mcx([0,1], ancilla)\n",
    "    qc.mcx([2,3], ancilla)\n",
    "    qc.mcx([0,1,2,3], ancilla)\n",
    "    qc.h(ancilla)\n",
    "    qc.x(ancilla)\n",
    "    return qc.to_gate()"
   ]
  },
  {
   "cell_type": "code",
   "execution_count": 129,
   "metadata": {},
   "outputs": [
    {
     "data": {
      "text/html": [
       "<pre style=\"word-wrap: normal;white-space: pre;background: #fff0;line-height: 1.1;font-family: &quot;Courier New&quot;,Courier,monospace\">           ┌───┐ ░     ┌─────────┐         \n",
       "   qreg_0: ┤ H ├─░─────┤0        ├─────────\n",
       "           ├───┤ ░     │         │         \n",
       "   qreg_1: ┤ H ├─░─────┤1        ├─────────\n",
       "           ├───┤ ░     │         │         \n",
       "   qreg_2: ┤ H ├─░─────┤2 oracle ├─────────\n",
       "           ├───┤ ░     │         │         \n",
       "   qreg_3: ┤ H ├─░─────┤3        ├─────────\n",
       "           └───┘ ░     │         │         \n",
       "ancilla_1: ──────░─────┤4        ├─────────\n",
       "           ┌───┐ ░     └────┬────┘    ┌───┐\n",
       "ancilla_2: ┤ H ├─░──────────■─────────┤ H ├\n",
       "           └───┘ ░  controlled_oracle └───┘\n",
       "   creg: 1/════════════════════════════════\n",
       "                                           </pre>"
      ],
      "text/plain": [
       "           ┌───┐ ░     ┌─────────┐         \n",
       "   qreg_0: ┤ H ├─░─────┤0        ├─────────\n",
       "           ├───┤ ░     │         │         \n",
       "   qreg_1: ┤ H ├─░─────┤1        ├─────────\n",
       "           ├───┤ ░     │         │         \n",
       "   qreg_2: ┤ H ├─░─────┤2 oracle ├─────────\n",
       "           ├───┤ ░     │         │         \n",
       "   qreg_3: ┤ H ├─░─────┤3        ├─────────\n",
       "           └───┘ ░     │         │         \n",
       "ancilla_1: ──────░─────┤4        ├─────────\n",
       "           ┌───┐ ░     └────┬────┘    ┌───┐\n",
       "ancilla_2: ┤ H ├─░──────────■─────────┤ H ├\n",
       "           └───┘ ░  controlled_oracle └───┘\n",
       "   creg: 1/════════════════════════════════\n",
       "                                           "
      ]
     },
     "execution_count": 129,
     "metadata": {},
     "output_type": "execute_result"
    }
   ],
   "source": [
    "qreg, ancilla_1, ancilla_2 , creg = QuantumRegister(4, name= 'qreg'), QuantumRegister(1, name= 'ancilla_1'), QuantumRegister(1, name= 'ancilla_2'), ClassicalRegister(1, name='creg')\n",
    "qc = QuantumCircuit(qreg, ancilla_1, ancilla_2, creg)\n",
    "qc.h(ancilla_2)\n",
    "qc.h(qreg)\n",
    "qc.barrier()\n",
    "qc.append( oracle_f().control(1, label='controlled_oracle'),  [5,0,1,2,3,4])\n",
    "qc.h(ancilla_2)\n",
    "\n",
    "    \n",
    "# qc.decompose().draw()        \n",
    "qc.draw()    "
   ]
  },
  {
   "cell_type": "code",
   "execution_count": 126,
   "metadata": {},
   "outputs": [],
   "source": [
    "shots = 11024\n",
    "qc.measure(ancilla_2, creg)\n",
    "job = execute(qc, backend= aer, shots= shots)\n",
    "counts = job.result().get_counts()"
   ]
  },
  {
   "cell_type": "code",
   "execution_count": 127,
   "metadata": {},
   "outputs": [
    {
     "data": {
      "image/png": "[encoded data removed]",
      "text/plain": [
       "<Figure size 504x360 with 1 Axes>"
      ]
     },
     "execution_count": 127,
     "metadata": {},
     "output_type": "execute_result"
    }
   ],
   "source": [
    "plot_histogram(counts)"
   ]
  },
  {
   "cell_type": "code",
   "execution_count": 128,
   "metadata": {},
   "outputs": [
    {
     "name": "stdout",
     "output_type": "stream",
     "text": [
      "|X1| : 6.9912917271407835\n",
      "|X0| : 9.008708272859216\n"
     ]
    }
   ],
   "source": [
    "print('|X1| :', counts['1']*16/shots)\n",
    "print('|X0| :', counts['0']*16/shots)\n"
   ]
  },
  {
   "cell_type": "markdown",
   "metadata": {},
   "source": [
    "Which is close enough to out orginal values!"
   ]
  },
  {
   "cell_type": "markdown",
   "metadata": {},
   "source": [
    "** Note that we needed just one qubit measurement whereas in the usual DJ algotithm we would have needed to measure all the qubits in ```qreg```, also we didn't need the final layer of ```hadamard``` gates !"
   ]
  },
  {
   "cell_type": "code",
   "execution_count": null,
   "metadata": {},
   "outputs": [],
   "source": []
  }
 ],
 "metadata": {
  "kernelspec": {
   "display_name": "Python 3.10.4 64-bit",
   "language": "python",
   "name": "python3"
  },
  "language_info": {
   "codemirror_mode": {
    "name": "ipython",
    "version": 3
   },
   "file_extension": ".py",
   "mimetype": "text/x-python",
   "name": "python",
   "nbconvert_exporter": "python",
   "pygments_lexer": "ipython3",
   "version": "3.10.4"
  },
  "orig_nbformat": 4,
  "vscode": {
   "interpreter": {
    "hash": "31f2aee4e71d21fbe5cf8b01ff0e069b9275f58929596ceb00d14d90e3e16cd6"
   }
  }
 },
 "nbformat": 4,
 "nbformat_minor": 2
}
